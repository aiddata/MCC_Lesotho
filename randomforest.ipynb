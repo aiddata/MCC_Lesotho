{
 "cells": [
  {
   "cell_type": "code",
   "execution_count": null,
   "id": "infrared-circus",
   "metadata": {},
   "outputs": [],
   "source": [
    "import pandas as pd\n",
    "import seaborn as sn\n",
    "import matplotlib.pyplot as plt\n",
    "import os\n",
    "import numpy as np\n",
    "from sklearn.preprocessing import LabelEncoder\n",
    "from sklearn.metrics import confusion_matrix, accuracy_score\n",
    "import matplotlib.pyplot as plt\n",
    "from sklearn.metrics import plot_confusion_matrix"
   ]
  },
  {
   "cell_type": "code",
   "execution_count": null,
   "id": "willing-apple",
   "metadata": {},
   "outputs": [],
   "source": [
    "base = os.path.abspath('.')\n",
    "allpoints = os.path.join(base, \"dataset/allpoints.csv\")\n"
   ]
  },
  {
   "cell_type": "code",
   "execution_count": null,
   "id": "minor-spanking",
   "metadata": {},
   "outputs": [],
   "source": [
    "df = pd.read_csv(allpoints)\n",
    "df.head()"
   ]
  },
  {
   "cell_type": "code",
   "execution_count": null,
   "id": "naked-consistency",
   "metadata": {},
   "outputs": [],
   "source": [
    "# get one time stamp data\n",
    "timestamps = list(set(df['date'].tolist()))\n",
    "sampletime = timestamps[0]\n",
    "sampletime"
   ]
  },
  {
   "cell_type": "code",
   "execution_count": null,
   "id": "floral-barrier",
   "metadata": {},
   "outputs": [],
   "source": []
  },
  {
   "cell_type": "code",
   "execution_count": null,
   "id": "framed-racing",
   "metadata": {},
   "outputs": [],
   "source": []
  },
  {
   "cell_type": "code",
   "execution_count": null,
   "id": "northern-blackjack",
   "metadata": {},
   "outputs": [],
   "source": []
  },
  {
   "cell_type": "code",
   "execution_count": null,
   "id": "beneficial-electric",
   "metadata": {},
   "outputs": [],
   "source": [
    "def assign_int(x):\n",
    "    if x == 'water':\n",
    "        return 1\n",
    "    else:\n",
    "        return 0\n",
    "\n",
    "def assign_class(x, threshold):\n",
    "    \n",
    "    if float(x) >= float(threshold):\n",
    "        return 0\n",
    "    else:\n",
    "        return 1\n",
    "\n",
    "def assign_intall(x):\n",
    "    if x == 'water':\n",
    "        return 0\n",
    "    elif x == 'farmland':\n",
    "        return 1\n",
    "    elif x == 'bare':\n",
    "        return 2\n",
    "\n",
    "def print_cm(cm, labels, hide_zeroes=False, hide_diagonal=False, hide_threshold=None):\n",
    "    \"\"\"pretty print for confusion matrixes\"\"\"\n",
    "    columnwidth = max([len(x) for x in labels] + [5])  # 5 is value length\n",
    "    empty_cell = \" \" * columnwidth\n",
    "    # Print header\n",
    "    print(\"    \" + empty_cell, end=\" \")\n",
    "    for label in labels:\n",
    "        print(\"%{0}s\".format(columnwidth) % label, end=\" \")\n",
    "    print()\n",
    "    # Print rows\n",
    "    for i, label1 in enumerate(labels):\n",
    "        print(\"    %{0}s\".format(columnwidth) % label1, end=\" \")\n",
    "        for j in range(len(labels)):\n",
    "            cell = \"%{0}.1f\".format(columnwidth) % cm[i, j]\n",
    "            if hide_zeroes:\n",
    "                cell = cell if float(cm[i, j]) != 0 else empty_cell\n",
    "            if hide_diagonal:\n",
    "                cell = cell if i != j else empty_cell\n",
    "            if hide_threshold:\n",
    "                cell = cell if cm[i, j] > hide_threshold else empty_cell\n",
    "            print(cell, end=\" \")\n",
    "        print()\n"
   ]
  },
  {
   "cell_type": "code",
   "execution_count": null,
   "id": "painted-duration",
   "metadata": {},
   "outputs": [],
   "source": [
    "df['ld_int'] = df['ld_type'].apply(lambda x: assign_int(x))\n",
    "testrf_df = df.loc[df['date']==sampletime][['BRIGHTI', 'BSI', 'GNDVI', 'NDDI', 'NDPI', 'NDVI', 'NDWI','RedEdge1', 'SRRE', 'SWI', 'ld_int']]"
   ]
  },
  {
   "cell_type": "code",
   "execution_count": null,
   "id": "anonymous-agriculture",
   "metadata": {},
   "outputs": [],
   "source": [
    "testrf_df.head()"
   ]
  },
  {
   "cell_type": "code",
   "execution_count": null,
   "id": "dying-ballot",
   "metadata": {},
   "outputs": [],
   "source": [
    "from sklearn.model_selection import train_test_split\n",
    "from sklearn.preprocessing import StandardScaler\n",
    "import numpy as np\n",
    "import matplotlib.pyplot as plt\n",
    "\n",
    "\n",
    "X = testrf_df.iloc[:, :-1]\n",
    "Y = testrf_df.iloc[:, -1]\n",
    "\n",
    "X = X.values\n",
    "y = Y.values\n",
    "\n",
    "X_train, X_test, y_train, y_test = train_test_split(X, y, test_size=0.25, random_state=1693)\n",
    "scale_X = StandardScaler()\n",
    "X_train = scale_X.fit_transform(X_train)\n",
    "X_test = scale_X.fit_transform(X_test)"
   ]
  },
  {
   "cell_type": "code",
   "execution_count": null,
   "id": "sized-music",
   "metadata": {},
   "outputs": [],
   "source": [
    "from sklearn.ensemble import RandomForestClassifier\n",
    "from sklearn import tree\n",
    "\n",
    "rt_classifier = RandomForestClassifier(n_estimators=1000, random_state=1693, max_depth=5)\n",
    "rt_classifier.fit(X_train, y_train)\n"
   ]
  },
  {
   "cell_type": "code",
   "execution_count": null,
   "id": "heated-tourist",
   "metadata": {},
   "outputs": [],
   "source": [
    "rt_pred = rt_classifier.predict(X_test)\n",
    "rt_cm = confusion_matrix(y_test, rt_pred)\n",
    "rt_cm"
   ]
  },
  {
   "cell_type": "code",
   "execution_count": null,
   "id": "cutting-surprise",
   "metadata": {},
   "outputs": [],
   "source": [
    "print_cm(rt_cm, ['0', '1', '2'])"
   ]
  },
  {
   "cell_type": "code",
   "execution_count": null,
   "id": "gothic-criticism",
   "metadata": {},
   "outputs": [],
   "source": []
  },
  {
   "cell_type": "code",
   "execution_count": null,
   "id": "stopped-packet",
   "metadata": {},
   "outputs": [],
   "source": []
  },
  {
   "cell_type": "code",
   "execution_count": null,
   "id": "color-forum",
   "metadata": {},
   "outputs": [],
   "source": []
  }
 ],
 "metadata": {
  "kernelspec": {
   "display_name": "Python 3",
   "language": "python",
   "name": "python3"
  },
  "language_info": {
   "codemirror_mode": {
    "name": "ipython",
    "version": 3
   },
   "file_extension": ".py",
   "mimetype": "text/x-python",
   "name": "python",
   "nbconvert_exporter": "python",
   "pygments_lexer": "ipython3",
   "version": "3.7.9"
  }
 },
 "nbformat": 4,
 "nbformat_minor": 5
}
