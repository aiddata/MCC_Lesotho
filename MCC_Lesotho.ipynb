{
 "cells": [
  {
   "cell_type": "code",
   "execution_count": 1,
   "id": "colored-march",
   "metadata": {},
   "outputs": [],
   "source": [
    "import ee\n",
    "import datetime"
   ]
  },
  {
   "cell_type": "code",
   "execution_count": null,
   "id": "considered-heating",
   "metadata": {},
   "outputs": [],
   "source": [
    "ee.Authenticate()\n",
    "ee.Initialize()"
   ]
  },
  {
   "cell_type": "code",
   "execution_count": 16,
   "id": "dated-ebony",
   "metadata": {},
   "outputs": [],
   "source": [
    "ee_date = ee.Date('2020-01-01')\n",
    "py_date = datetime.datetime.utcfromtimestamp(ee_date.getInfo()['value']/1000.0)\n",
    "\n"
   ]
  },
  {
   "cell_type": "code",
   "execution_count": 62,
   "id": "dutch-hampshire",
   "metadata": {},
   "outputs": [],
   "source": [
    "startDate = '2019-01-01'\n",
    "endDate = '2020-01-01'\n",
    "region = ee.Geometry.Rectangle(27.248340, -29.632341, 27.416364, -29.750510)\n",
    "biweekDifference = ee.Date(startDate).advance(2, 'week').millis().subtract(ee.Date(startDate).millis())\n",
    "listMap = ee.List.sequence(ee.Date(startDate).millis(), ee.Date(endDate).millis(), biweekDifference)"
   ]
  },
  {
   "cell_type": "code",
   "execution_count": 64,
   "id": "revised-visibility",
   "metadata": {},
   "outputs": [
    {
     "data": {
      "text/plain": [
       "<ee.ee_list.List at 0x7fbbb3af3c50>"
      ]
     },
     "execution_count": 64,
     "metadata": {},
     "output_type": "execute_result"
    }
   ],
   "source": [
    "listMap"
   ]
  },
  {
   "cell_type": "code",
   "execution_count": null,
   "id": "pretty-ottawa",
   "metadata": {},
   "outputs": [],
   "source": []
  },
  {
   "cell_type": "code",
   "execution_count": 52,
   "id": "nominated-savage",
   "metadata": {},
   "outputs": [],
   "source": [
    "# Get biweekly sentinel2 data\n",
    "\n",
    "def getBiweeklySentinelComposite(date):\n",
    "    \n",
    "    sentinel2 = ee.ImageCollection('COPERNICUS/S2_SR')\\\n",
    "    .filterBounds(region)\\\n",
    "    .filterDate(date, date.advance(2, 'week'))\\\n",
    "    .filterMetadata('CLOUD_COVERAGE_ASSESSMENT', 'not_greater_than', 1)\n",
    "    \n",
    "    composite = sentinel2.median()\\\n",
    "    .set('system:time_start', date.millis(), 'dateYMD', date.format('YYYY-MM-dd'), 'numbImages', sentinel2.size());\n",
    "        \n",
    "    return composite\n",
    "\n",
    "\n",
    "def dateMillis(dateMillis):\n",
    "    date = ee.Date(dateMillis)\n",
    "    return getBiweeklySentinelComposite(date)\n",
    "\n",
    "def sentinel2_all(dateMillis):\n",
    "    ee.ImageCollection.fromImages(map(dateMillis(), listMap))"
   ]
  },
  {
   "cell_type": "code",
   "execution_count": 66,
   "id": "brown-chamber",
   "metadata": {},
   "outputs": [],
   "source": [
    "date = ee.Date('2020-01-01')\n",
    "image = getBiweeklySentinelComposite(date)"
   ]
  },
  {
   "cell_type": "code",
   "execution_count": 76,
   "id": "comprehensive-marble",
   "metadata": {},
   "outputs": [
    {
     "ename": "TypeError",
     "evalue": "dateMillis() missing 1 required positional argument: 'dateMillis'",
     "output_type": "error",
     "traceback": [
      "\u001b[0;31m---------------------------------------------------------------------------\u001b[0m",
      "\u001b[0;31mTypeError\u001b[0m                                 Traceback (most recent call last)",
      "\u001b[0;32m<ipython-input-76-96d8b3e281b1>\u001b[0m in \u001b[0;36m<module>\u001b[0;34m\u001b[0m\n\u001b[0;32m----> 1\u001b[0;31m \u001b[0msentinel2_all\u001b[0m \u001b[0;34m=\u001b[0m \u001b[0mee\u001b[0m\u001b[0;34m.\u001b[0m\u001b[0mImageCollection\u001b[0m\u001b[0;34m.\u001b[0m\u001b[0mfromImages\u001b[0m\u001b[0;34m(\u001b[0m\u001b[0mmap\u001b[0m\u001b[0;34m(\u001b[0m\u001b[0mdateMillis\u001b[0m\u001b[0;34m(\u001b[0m\u001b[0;34m)\u001b[0m\u001b[0;34m,\u001b[0m \u001b[0mlistMap\u001b[0m\u001b[0;34m)\u001b[0m\u001b[0;34m)\u001b[0m\u001b[0;34m\u001b[0m\u001b[0;34m\u001b[0m\u001b[0m\n\u001b[0m",
      "\u001b[0;31mTypeError\u001b[0m: dateMillis() missing 1 required positional argument: 'dateMillis'"
     ]
    }
   ],
   "source": [
    "sentinel2_all = ee.ImageCollection.fromImages(map(dateMillis(), listMap))"
   ]
  },
  {
   "cell_type": "code",
   "execution_count": 27,
   "id": "prime-kentucky",
   "metadata": {},
   "outputs": [
    {
     "ename": "NameError",
     "evalue": "name 'date' is not defined",
     "output_type": "error",
     "traceback": [
      "\u001b[0;31m---------------------------------------------------------------------------\u001b[0m",
      "\u001b[0;31mNameError\u001b[0m                                 Traceback (most recent call last)",
      "\u001b[0;32m<ipython-input-27-7d264bdc5f64>\u001b[0m in \u001b[0;36m<module>\u001b[0;34m\u001b[0m\n\u001b[1;32m      1\u001b[0m \u001b[0msentinel2\u001b[0m \u001b[0;34m=\u001b[0m \u001b[0mee\u001b[0m\u001b[0;34m.\u001b[0m\u001b[0mImageCollection\u001b[0m\u001b[0;34m(\u001b[0m\u001b[0;34m'COPERNICUS/S2_SR'\u001b[0m\u001b[0;34m)\u001b[0m\u001b[0;31m\\\u001b[0m\u001b[0;34m\u001b[0m\u001b[0;34m\u001b[0m\u001b[0m\n\u001b[1;32m      2\u001b[0m \u001b[0;34m.\u001b[0m\u001b[0mfilterBounds\u001b[0m\u001b[0;34m(\u001b[0m\u001b[0mregion\u001b[0m\u001b[0;34m)\u001b[0m\u001b[0;31m\\\u001b[0m\u001b[0;34m\u001b[0m\u001b[0;34m\u001b[0m\u001b[0m\n\u001b[0;32m----> 3\u001b[0;31m \u001b[0;34m.\u001b[0m\u001b[0mfilterDate\u001b[0m\u001b[0;34m(\u001b[0m\u001b[0mdate\u001b[0m\u001b[0;34m,\u001b[0m \u001b[0mdate\u001b[0m\u001b[0;34m.\u001b[0m\u001b[0madvance\u001b[0m\u001b[0;34m(\u001b[0m\u001b[0;36m2\u001b[0m\u001b[0;34m,\u001b[0m \u001b[0;34m'week'\u001b[0m\u001b[0;34m)\u001b[0m\u001b[0;34m)\u001b[0m\u001b[0;31m\\\u001b[0m\u001b[0;34m\u001b[0m\u001b[0;34m\u001b[0m\u001b[0m\n\u001b[0m\u001b[1;32m      4\u001b[0m \u001b[0;34m.\u001b[0m\u001b[0mfilterMetadata\u001b[0m\u001b[0;34m(\u001b[0m\u001b[0;34m'CLOUD_COVERAGE_ASSESSMENT'\u001b[0m\u001b[0;34m,\u001b[0m \u001b[0;34m'not_greater_than'\u001b[0m\u001b[0;34m,\u001b[0m \u001b[0;36m1\u001b[0m\u001b[0;34m)\u001b[0m\u001b[0;34m;\u001b[0m\u001b[0;34m\u001b[0m\u001b[0;34m\u001b[0m\u001b[0m\n",
      "\u001b[0;31mNameError\u001b[0m: name 'date' is not defined"
     ]
    }
   ],
   "source": []
  },
  {
   "cell_type": "code",
   "execution_count": 15,
   "id": "objective-boost",
   "metadata": {},
   "outputs": [],
   "source": []
  },
  {
   "cell_type": "code",
   "execution_count": null,
   "id": "massive-carry",
   "metadata": {},
   "outputs": [],
   "source": []
  },
  {
   "cell_type": "code",
   "execution_count": null,
   "id": "opposed-milwaukee",
   "metadata": {},
   "outputs": [],
   "source": []
  },
  {
   "cell_type": "code",
   "execution_count": null,
   "id": "brave-chaos",
   "metadata": {},
   "outputs": [],
   "source": []
  },
  {
   "cell_type": "code",
   "execution_count": null,
   "id": "lovely-publication",
   "metadata": {},
   "outputs": [],
   "source": []
  },
  {
   "cell_type": "code",
   "execution_count": null,
   "id": "strange-democrat",
   "metadata": {},
   "outputs": [],
   "source": []
  }
 ],
 "metadata": {
  "kernelspec": {
   "display_name": "Python 3",
   "language": "python",
   "name": "python3"
  },
  "language_info": {
   "codemirror_mode": {
    "name": "ipython",
    "version": 3
   },
   "file_extension": ".py",
   "mimetype": "text/x-python",
   "name": "python",
   "nbconvert_exporter": "python",
   "pygments_lexer": "ipython3",
   "version": "3.7.9"
  }
 },
 "nbformat": 4,
 "nbformat_minor": 5
}
