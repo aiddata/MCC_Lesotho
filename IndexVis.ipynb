{
 "cells": [
  {
   "cell_type": "code",
   "execution_count": 32,
   "metadata": {},
   "outputs": [],
   "source": [
    "import pandas as pd\n",
    "import seaborn as sn\n",
    "import matplotlib.pyplot as plt\n",
    "import os\n",
    "import numpy as np"
   ]
  },
  {
   "cell_type": "code",
   "execution_count": 33,
   "metadata": {},
   "outputs": [],
   "source": [
    "base = os.path.abspath('.')\n",
    "soil = os.path.join(base, \"dataset/BareSoilPolyPtsTS.csv\")\n",
    "farmland = os.path.join(base, \"dataset/FarmPolyPtsTS.csv\")\n",
    "water = os.path.join(base, \"dataset/WaterPolyPtsTS.csv\")\n",
    "\n",
    "allpoints = os.path.join(base, \"dataset/allpoints.csv\")"
   ]
  },
  {
   "cell_type": "code",
   "execution_count": 13,
   "metadata": {},
   "outputs": [],
   "source": [
    "s_df = pd.read_csv(soil)\n",
    "f_df = pd.read_csv(farmland)\n",
    "w_df = pd.read_csv(water)"
   ]
  },
  {
   "cell_type": "code",
   "execution_count": 14,
   "metadata": {},
   "outputs": [
    {
     "data": {
      "text/plain": [
       "(3384, 18)"
      ]
     },
     "execution_count": 14,
     "metadata": {},
     "output_type": "execute_result"
    }
   ],
   "source": [
    "s_df['type'] = 'soil'\n",
    "w_df['type'] = 'water'\n",
    "f_df['type'] = 'farmland'\n",
    "\n",
    "s_df.shape\n"
   ]
  },
  {
   "cell_type": "code",
   "execution_count": 15,
   "metadata": {},
   "outputs": [
    {
     "data": {
      "text/plain": [
       "(5400, 18)"
      ]
     },
     "execution_count": 15,
     "metadata": {},
     "output_type": "execute_result"
    }
   ],
   "source": [
    "w_df.shape\n"
   ]
  },
  {
   "cell_type": "code",
   "execution_count": 16,
   "metadata": {},
   "outputs": [
    {
     "data": {
      "text/plain": [
       "(4338, 18)"
      ]
     },
     "execution_count": 16,
     "metadata": {},
     "output_type": "execute_result"
    }
   ],
   "source": [
    "f_df.shape\n"
   ]
  },
  {
   "cell_type": "code",
   "execution_count": 17,
   "metadata": {},
   "outputs": [],
   "source": [
    "data = pd.concat([f_df, s_df, w_df], ignore_index=True)"
   ]
  },
  {
   "cell_type": "code",
   "execution_count": 18,
   "metadata": {},
   "outputs": [
    {
     "data": {
      "text/html": [
       "<div>\n",
       "<style scoped>\n",
       "    .dataframe tbody tr th:only-of-type {\n",
       "        vertical-align: middle;\n",
       "    }\n",
       "\n",
       "    .dataframe tbody tr th {\n",
       "        vertical-align: top;\n",
       "    }\n",
       "\n",
       "    .dataframe thead th {\n",
       "        text-align: right;\n",
       "    }\n",
       "</style>\n",
       "<table border=\"1\" class=\"dataframe\">\n",
       "  <thead>\n",
       "    <tr style=\"text-align: right;\">\n",
       "      <th></th>\n",
       "      <th>system:index</th>\n",
       "      <th>BRIGHTI</th>\n",
       "      <th>BSI</th>\n",
       "      <th>GNDVI</th>\n",
       "      <th>NDDI</th>\n",
       "      <th>NDPI</th>\n",
       "      <th>NDVI</th>\n",
       "      <th>NDWI</th>\n",
       "      <th>RedEdge1</th>\n",
       "      <th>SRRE</th>\n",
       "      <th>SWI</th>\n",
       "      <th>count</th>\n",
       "      <th>date</th>\n",
       "      <th>dateYMD</th>\n",
       "      <th>numbImages</th>\n",
       "      <th>timestamp</th>\n",
       "      <th>.geo</th>\n",
       "      <th>type</th>\n",
       "    </tr>\n",
       "  </thead>\n",
       "  <tbody>\n",
       "    <tr>\n",
       "      <th>7722</th>\n",
       "      <td>0_0</td>\n",
       "      <td>0.668176</td>\n",
       "      <td>0.096026</td>\n",
       "      <td>-0.288921</td>\n",
       "      <td>-21.090195</td>\n",
       "      <td>-0.237545</td>\n",
       "      <td>-0.262763</td>\n",
       "      <td>0.288921</td>\n",
       "      <td>-0.291438</td>\n",
       "      <td>0.548662</td>\n",
       "      <td>0.217778</td>\n",
       "      <td>23</td>\n",
       "      <td>2019-01-01</td>\n",
       "      <td>2019-01-01</td>\n",
       "      <td>1</td>\n",
       "      <td>1546300800000</td>\n",
       "      <td>{\"type\":\"Polygon\",\"coordinates\":[[[27.37243925...</td>\n",
       "      <td>water</td>\n",
       "    </tr>\n",
       "    <tr>\n",
       "      <th>7723</th>\n",
       "      <td>0_1</td>\n",
       "      <td>0.903811</td>\n",
       "      <td>0.108492</td>\n",
       "      <td>0.058413</td>\n",
       "      <td>0.124639</td>\n",
       "      <td>-0.094780</td>\n",
       "      <td>-0.074990</td>\n",
       "      <td>-0.058413</td>\n",
       "      <td>-0.097158</td>\n",
       "      <td>0.822892</td>\n",
       "      <td>0.246254</td>\n",
       "      <td>23</td>\n",
       "      <td>2019-01-01</td>\n",
       "      <td>2019-01-01</td>\n",
       "      <td>1</td>\n",
       "      <td>1546300800000</td>\n",
       "      <td>{\"type\":\"Polygon\",\"coordinates\":[[[27.32666524...</td>\n",
       "      <td>water</td>\n",
       "    </tr>\n",
       "    <tr>\n",
       "      <th>7724</th>\n",
       "      <td>0_2</td>\n",
       "      <td>0.926441</td>\n",
       "      <td>0.185817</td>\n",
       "      <td>-0.100253</td>\n",
       "      <td>2.569627</td>\n",
       "      <td>-0.150542</td>\n",
       "      <td>-0.230441</td>\n",
       "      <td>0.100253</td>\n",
       "      <td>-0.283681</td>\n",
       "      <td>0.558020</td>\n",
       "      <td>0.328992</td>\n",
       "      <td>23</td>\n",
       "      <td>2019-01-01</td>\n",
       "      <td>2019-01-01</td>\n",
       "      <td>1</td>\n",
       "      <td>1546300800000</td>\n",
       "      <td>{\"type\":\"Polygon\",\"coordinates\":[[[27.27055557...</td>\n",
       "      <td>water</td>\n",
       "    </tr>\n",
       "    <tr>\n",
       "      <th>7725</th>\n",
       "      <td>0_3</td>\n",
       "      <td>1.120584</td>\n",
       "      <td>0.059353</td>\n",
       "      <td>0.340483</td>\n",
       "      <td>-2.370296</td>\n",
       "      <td>0.032754</td>\n",
       "      <td>0.138434</td>\n",
       "      <td>-0.340483</td>\n",
       "      <td>0.040867</td>\n",
       "      <td>1.085217</td>\n",
       "      <td>0.283992</td>\n",
       "      <td>23</td>\n",
       "      <td>2019-01-01</td>\n",
       "      <td>2019-01-01</td>\n",
       "      <td>1</td>\n",
       "      <td>1546300800000</td>\n",
       "      <td>{\"type\":\"Polygon\",\"coordinates\":[[[27.39143156...</td>\n",
       "      <td>water</td>\n",
       "    </tr>\n",
       "    <tr>\n",
       "      <th>7726</th>\n",
       "      <td>0_4</td>\n",
       "      <td>0.923038</td>\n",
       "      <td>-0.181179</td>\n",
       "      <td>0.159857</td>\n",
       "      <td>-1.511291</td>\n",
       "      <td>-0.783193</td>\n",
       "      <td>0.032280</td>\n",
       "      <td>-0.159857</td>\n",
       "      <td>-0.020583</td>\n",
       "      <td>0.959664</td>\n",
       "      <td>0.844812</td>\n",
       "      <td>23</td>\n",
       "      <td>2019-01-01</td>\n",
       "      <td>2019-01-01</td>\n",
       "      <td>1</td>\n",
       "      <td>1546300800000</td>\n",
       "      <td>{\"type\":\"Polygon\",\"coordinates\":[[[27.28788290...</td>\n",
       "      <td>water</td>\n",
       "    </tr>\n",
       "    <tr>\n",
       "      <th>...</th>\n",
       "      <td>...</td>\n",
       "      <td>...</td>\n",
       "      <td>...</td>\n",
       "      <td>...</td>\n",
       "      <td>...</td>\n",
       "      <td>...</td>\n",
       "      <td>...</td>\n",
       "      <td>...</td>\n",
       "      <td>...</td>\n",
       "      <td>...</td>\n",
       "      <td>...</td>\n",
       "      <td>...</td>\n",
       "      <td>...</td>\n",
       "      <td>...</td>\n",
       "      <td>...</td>\n",
       "      <td>...</td>\n",
       "      <td>...</td>\n",
       "      <td>...</td>\n",
       "    </tr>\n",
       "    <tr>\n",
       "      <th>13117</th>\n",
       "      <td>26_295</td>\n",
       "      <td>0.869735</td>\n",
       "      <td>0.009515</td>\n",
       "      <td>0.100077</td>\n",
       "      <td>-0.893215</td>\n",
       "      <td>-0.177537</td>\n",
       "      <td>-0.005510</td>\n",
       "      <td>-0.100077</td>\n",
       "      <td>0.009399</td>\n",
       "      <td>1.018976</td>\n",
       "      <td>0.262088</td>\n",
       "      <td>23</td>\n",
       "      <td>2019-12-31</td>\n",
       "      <td>2019-12-31</td>\n",
       "      <td>1</td>\n",
       "      <td>1577750400000</td>\n",
       "      <td>{\"type\":\"Polygon\",\"coordinates\":[[[27.31105898...</td>\n",
       "      <td>water</td>\n",
       "    </tr>\n",
       "    <tr>\n",
       "      <th>13118</th>\n",
       "      <td>26_296</td>\n",
       "      <td>1.146723</td>\n",
       "      <td>-0.039568</td>\n",
       "      <td>0.363443</td>\n",
       "      <td>-2.223051</td>\n",
       "      <td>0.128725</td>\n",
       "      <td>0.137916</td>\n",
       "      <td>-0.363443</td>\n",
       "      <td>0.041484</td>\n",
       "      <td>1.086559</td>\n",
       "      <td>0.137154</td>\n",
       "      <td>23</td>\n",
       "      <td>2019-12-31</td>\n",
       "      <td>2019-12-31</td>\n",
       "      <td>1</td>\n",
       "      <td>1577750400000</td>\n",
       "      <td>{\"type\":\"Polygon\",\"coordinates\":[[[27.39119116...</td>\n",
       "      <td>water</td>\n",
       "    </tr>\n",
       "    <tr>\n",
       "      <th>13119</th>\n",
       "      <td>26_297</td>\n",
       "      <td>0.864927</td>\n",
       "      <td>-0.079189</td>\n",
       "      <td>0.009499</td>\n",
       "      <td>0.810923</td>\n",
       "      <td>-0.734594</td>\n",
       "      <td>-0.090980</td>\n",
       "      <td>-0.009499</td>\n",
       "      <td>-0.138858</td>\n",
       "      <td>0.756145</td>\n",
       "      <td>0.796108</td>\n",
       "      <td>23</td>\n",
       "      <td>2019-12-31</td>\n",
       "      <td>2019-12-31</td>\n",
       "      <td>1</td>\n",
       "      <td>1577750400000</td>\n",
       "      <td>{\"type\":\"Polygon\",\"coordinates\":[[[27.32741440...</td>\n",
       "      <td>water</td>\n",
       "    </tr>\n",
       "    <tr>\n",
       "      <th>13120</th>\n",
       "      <td>26_298</td>\n",
       "      <td>0.878833</td>\n",
       "      <td>-0.136999</td>\n",
       "      <td>0.133718</td>\n",
       "      <td>-1.534578</td>\n",
       "      <td>-0.701571</td>\n",
       "      <td>0.028203</td>\n",
       "      <td>-0.133718</td>\n",
       "      <td>-0.036436</td>\n",
       "      <td>0.929690</td>\n",
       "      <td>0.778426</td>\n",
       "      <td>23</td>\n",
       "      <td>2019-12-31</td>\n",
       "      <td>2019-12-31</td>\n",
       "      <td>1</td>\n",
       "      <td>1577750400000</td>\n",
       "      <td>{\"type\":\"Polygon\",\"coordinates\":[[[27.32759030...</td>\n",
       "      <td>water</td>\n",
       "    </tr>\n",
       "    <tr>\n",
       "      <th>13121</th>\n",
       "      <td>26_299</td>\n",
       "      <td>0.865259</td>\n",
       "      <td>0.019103</td>\n",
       "      <td>0.026350</td>\n",
       "      <td>0.486132</td>\n",
       "      <td>-0.235746</td>\n",
       "      <td>-0.076205</td>\n",
       "      <td>-0.026350</td>\n",
       "      <td>-0.110112</td>\n",
       "      <td>0.801619</td>\n",
       "      <td>0.360257</td>\n",
       "      <td>23</td>\n",
       "      <td>2019-12-31</td>\n",
       "      <td>2019-12-31</td>\n",
       "      <td>1</td>\n",
       "      <td>1577750400000</td>\n",
       "      <td>{\"type\":\"Polygon\",\"coordinates\":[[[27.32728008...</td>\n",
       "      <td>water</td>\n",
       "    </tr>\n",
       "  </tbody>\n",
       "</table>\n",
       "<p>5400 rows × 18 columns</p>\n",
       "</div>"
      ],
      "text/plain": [
       "      system:index   BRIGHTI       BSI     GNDVI       NDDI      NDPI  \\\n",
       "7722           0_0  0.668176  0.096026 -0.288921 -21.090195 -0.237545   \n",
       "7723           0_1  0.903811  0.108492  0.058413   0.124639 -0.094780   \n",
       "7724           0_2  0.926441  0.185817 -0.100253   2.569627 -0.150542   \n",
       "7725           0_3  1.120584  0.059353  0.340483  -2.370296  0.032754   \n",
       "7726           0_4  0.923038 -0.181179  0.159857  -1.511291 -0.783193   \n",
       "...            ...       ...       ...       ...        ...       ...   \n",
       "13117       26_295  0.869735  0.009515  0.100077  -0.893215 -0.177537   \n",
       "13118       26_296  1.146723 -0.039568  0.363443  -2.223051  0.128725   \n",
       "13119       26_297  0.864927 -0.079189  0.009499   0.810923 -0.734594   \n",
       "13120       26_298  0.878833 -0.136999  0.133718  -1.534578 -0.701571   \n",
       "13121       26_299  0.865259  0.019103  0.026350   0.486132 -0.235746   \n",
       "\n",
       "           NDVI      NDWI  RedEdge1      SRRE       SWI  count        date  \\\n",
       "7722  -0.262763  0.288921 -0.291438  0.548662  0.217778     23  2019-01-01   \n",
       "7723  -0.074990 -0.058413 -0.097158  0.822892  0.246254     23  2019-01-01   \n",
       "7724  -0.230441  0.100253 -0.283681  0.558020  0.328992     23  2019-01-01   \n",
       "7725   0.138434 -0.340483  0.040867  1.085217  0.283992     23  2019-01-01   \n",
       "7726   0.032280 -0.159857 -0.020583  0.959664  0.844812     23  2019-01-01   \n",
       "...         ...       ...       ...       ...       ...    ...         ...   \n",
       "13117 -0.005510 -0.100077  0.009399  1.018976  0.262088     23  2019-12-31   \n",
       "13118  0.137916 -0.363443  0.041484  1.086559  0.137154     23  2019-12-31   \n",
       "13119 -0.090980 -0.009499 -0.138858  0.756145  0.796108     23  2019-12-31   \n",
       "13120  0.028203 -0.133718 -0.036436  0.929690  0.778426     23  2019-12-31   \n",
       "13121 -0.076205 -0.026350 -0.110112  0.801619  0.360257     23  2019-12-31   \n",
       "\n",
       "          dateYMD  numbImages      timestamp  \\\n",
       "7722   2019-01-01           1  1546300800000   \n",
       "7723   2019-01-01           1  1546300800000   \n",
       "7724   2019-01-01           1  1546300800000   \n",
       "7725   2019-01-01           1  1546300800000   \n",
       "7726   2019-01-01           1  1546300800000   \n",
       "...           ...         ...            ...   \n",
       "13117  2019-12-31           1  1577750400000   \n",
       "13118  2019-12-31           1  1577750400000   \n",
       "13119  2019-12-31           1  1577750400000   \n",
       "13120  2019-12-31           1  1577750400000   \n",
       "13121  2019-12-31           1  1577750400000   \n",
       "\n",
       "                                                    .geo   type  \n",
       "7722   {\"type\":\"Polygon\",\"coordinates\":[[[27.37243925...  water  \n",
       "7723   {\"type\":\"Polygon\",\"coordinates\":[[[27.32666524...  water  \n",
       "7724   {\"type\":\"Polygon\",\"coordinates\":[[[27.27055557...  water  \n",
       "7725   {\"type\":\"Polygon\",\"coordinates\":[[[27.39143156...  water  \n",
       "7726   {\"type\":\"Polygon\",\"coordinates\":[[[27.28788290...  water  \n",
       "...                                                  ...    ...  \n",
       "13117  {\"type\":\"Polygon\",\"coordinates\":[[[27.31105898...  water  \n",
       "13118  {\"type\":\"Polygon\",\"coordinates\":[[[27.39119116...  water  \n",
       "13119  {\"type\":\"Polygon\",\"coordinates\":[[[27.32741440...  water  \n",
       "13120  {\"type\":\"Polygon\",\"coordinates\":[[[27.32759030...  water  \n",
       "13121  {\"type\":\"Polygon\",\"coordinates\":[[[27.32728008...  water  \n",
       "\n",
       "[5400 rows x 18 columns]"
      ]
     },
     "execution_count": 18,
     "metadata": {},
     "output_type": "execute_result"
    }
   ],
   "source": [
    "data.loc[data['type'] =='water']"
   ]
  },
  {
   "cell_type": "code",
   "execution_count": 25,
   "metadata": {},
   "outputs": [],
   "source": [
    "waterIdx = data.loc[data['type'] =='water'][['SWI', 'NDWI', 'NDPI', 'NDDI']]\n",
    "soilIdx = data.loc[data['type'] =='soil'][['BSI', 'BRIGHTI']]\n",
    "farmIdx = data.loc[data['type'] =='farmland'][['NDVI', 'GNDVI', 'RedEdge1', 'SRRE']]\n",
    "\n",
    "\n",
    "textIdx = data[['NDVI', 'GNDVI', 'RedEdge1', 'SRRE', 'BSI', 'BRIGHTI', 'NDWI', 'SWI', 'NDPI', 'NDDI']]"
   ]
  },
  {
   "cell_type": "code",
   "execution_count": 26,
   "metadata": {},
   "outputs": [
    {
     "data": {
      "text/html": [
       "<div>\n",
       "<style scoped>\n",
       "    .dataframe tbody tr th:only-of-type {\n",
       "        vertical-align: middle;\n",
       "    }\n",
       "\n",
       "    .dataframe tbody tr th {\n",
       "        vertical-align: top;\n",
       "    }\n",
       "\n",
       "    .dataframe thead th {\n",
       "        text-align: right;\n",
       "    }\n",
       "</style>\n",
       "<table border=\"1\" class=\"dataframe\">\n",
       "  <thead>\n",
       "    <tr style=\"text-align: right;\">\n",
       "      <th></th>\n",
       "      <th>SWI</th>\n",
       "      <th>NDWI</th>\n",
       "      <th>NDPI</th>\n",
       "      <th>NDDI</th>\n",
       "    </tr>\n",
       "  </thead>\n",
       "  <tbody>\n",
       "    <tr>\n",
       "      <th>7722</th>\n",
       "      <td>0.217778</td>\n",
       "      <td>0.288921</td>\n",
       "      <td>-0.237545</td>\n",
       "      <td>-21.090195</td>\n",
       "    </tr>\n",
       "    <tr>\n",
       "      <th>7723</th>\n",
       "      <td>0.246254</td>\n",
       "      <td>-0.058413</td>\n",
       "      <td>-0.094780</td>\n",
       "      <td>0.124639</td>\n",
       "    </tr>\n",
       "    <tr>\n",
       "      <th>7724</th>\n",
       "      <td>0.328992</td>\n",
       "      <td>0.100253</td>\n",
       "      <td>-0.150542</td>\n",
       "      <td>2.569627</td>\n",
       "    </tr>\n",
       "    <tr>\n",
       "      <th>7725</th>\n",
       "      <td>0.283992</td>\n",
       "      <td>-0.340483</td>\n",
       "      <td>0.032754</td>\n",
       "      <td>-2.370296</td>\n",
       "    </tr>\n",
       "    <tr>\n",
       "      <th>7726</th>\n",
       "      <td>0.844812</td>\n",
       "      <td>-0.159857</td>\n",
       "      <td>-0.783193</td>\n",
       "      <td>-1.511291</td>\n",
       "    </tr>\n",
       "  </tbody>\n",
       "</table>\n",
       "</div>"
      ],
      "text/plain": [
       "           SWI      NDWI      NDPI       NDDI\n",
       "7722  0.217778  0.288921 -0.237545 -21.090195\n",
       "7723  0.246254 -0.058413 -0.094780   0.124639\n",
       "7724  0.328992  0.100253 -0.150542   2.569627\n",
       "7725  0.283992 -0.340483  0.032754  -2.370296\n",
       "7726  0.844812 -0.159857 -0.783193  -1.511291"
      ]
     },
     "execution_count": 26,
     "metadata": {},
     "output_type": "execute_result"
    }
   ],
   "source": [
    "waterIdx.head()"
   ]
  },
  {
   "cell_type": "code",
   "execution_count": 27,
   "metadata": {},
   "outputs": [
    {
     "name": "stdout",
     "output_type": "stream",
     "text": [
      "           SWI      NDWI      NDPI      NDDI\n",
      "SWI   1.000000  0.448297 -0.992430  0.217150\n",
      "NDWI  0.448297  1.000000 -0.508520  0.221996\n",
      "NDPI -0.992430 -0.508520  1.000000 -0.200934\n",
      "NDDI  0.217150  0.221996 -0.200934  1.000000\n",
      "              BSI   BRIGHTI\n",
      "BSI      1.000000  0.653457\n",
      "BRIGHTI  0.653457  1.000000\n",
      "              NDVI     GNDVI  RedEdge1      SRRE\n",
      "NDVI      1.000000  0.900733  0.970941  0.968742\n",
      "GNDVI     0.900733  1.000000  0.859919  0.856054\n",
      "RedEdge1  0.970941  0.859919  1.000000  0.996764\n",
      "SRRE      0.968742  0.856054  0.996764  1.000000\n"
     ]
    }
   ],
   "source": [
    "corrMatrixW = waterIdx.corr()\n",
    "print (corrMatrixW)\n",
    "\n",
    "corrMatrixS = soilIdx.corr()\n",
    "print (corrMatrixS)\n",
    "\n",
    "corrMatrixF = farmIdx.corr()\n",
    "print (corrMatrixF)"
   ]
  },
  {
   "cell_type": "code",
   "execution_count": 28,
   "metadata": {},
   "outputs": [
    {
     "data": {
      "image/png": "[encoded data removed]",
      "text/plain": [
       "<Figure size 432x288 with 2 Axes>"
      ]
     },
     "metadata": {
      "needs_background": "light"
     },
     "output_type": "display_data"
    },
    {
     "data": {
      "image/png": "[encoded data removed]",
      "text/plain": [
       "<Figure size 432x288 with 2 Axes>"
      ]
     },
     "metadata": {
      "needs_background": "light"
     },
     "output_type": "display_data"
    },
    {
     "data": {
      "image/png": "[encoded data removed]",
      "text/plain": [
       "<Figure size 432x288 with 2 Axes>"
      ]
     },
     "metadata": {
      "needs_background": "light"
     },
     "output_type": "display_data"
    }
   ],
   "source": [
    "\n",
    "sn.heatmap(corrMatrixW, annot=True)\n",
    "plt.show()\n",
    "sn.heatmap(corrMatrixS, annot=True)\n",
    "plt.show()\n",
    "sn.heatmap(corrMatrixF, annot=True)\n",
    "plt.show()"
   ]
  },
  {
   "cell_type": "code",
   "execution_count": 29,
   "metadata": {},
   "outputs": [
    {
     "data": {
      "image/png": "[encoded data removed]",
      "text/plain": [
       "<Figure size 432x288 with 2 Axes>"
      ]
     },
     "metadata": {
      "needs_background": "light"
     },
     "output_type": "display_data"
    }
   ],
   "source": [
    "\n",
    "corrMatrixtextID = textIdx.corr()\n",
    "sn.heatmap(corrMatrixtextID, annot=True)\n",
    "\n",
    "plt.show()\n"
   ]
  },
  {
   "cell_type": "code",
   "execution_count": 30,
   "metadata": {},
   "outputs": [
    {
     "data": {
      "image/png": "[encoded data removed]",
      "text/plain": [
       "<Figure size 432x288 with 1 Axes>"
      ]
     },
     "metadata": {
      "needs_background": "light"
     },
     "output_type": "display_data"
    }
   ],
   "source": [
    "ax = waterIdx.plot.hist(bins=12, alpha=0.5)"
   ]
  },
  {
   "cell_type": "code",
   "execution_count": 166,
   "metadata": {},
   "outputs": [
    {
     "data": {
      "image/png": "[encoded data removed]",
      "text/plain": [
       "<Figure size 432x288 with 1 Axes>"
      ]
     },
     "metadata": {},
     "output_type": "display_data"
    }
   ],
   "source": [
    "ax = farmIdx.plot.hist(bins=12, alpha=0.5)"
   ]
  },
  {
   "cell_type": "code",
   "execution_count": 167,
   "metadata": {},
   "outputs": [
    {
     "data": {
      "image/png": "[encoded data removed]",
      "text/plain": [
       "<Figure size 432x288 with 1 Axes>"
      ]
     },
     "metadata": {},
     "output_type": "display_data"
    }
   ],
   "source": [
    "ax = soilIdx.plot.hist(bins=12, alpha=0.5)"
   ]
  },
  {
   "cell_type": "code",
   "execution_count": 168,
   "metadata": {},
   "outputs": [
    {
     "data": {
      "image/png": "[encoded data removed]",
      "text/plain": [
       "<Figure size 432x288 with 1 Axes>"
      ]
     },
     "metadata": {},
     "output_type": "display_data"
    }
   ],
   "source": [
    "selected = 'NDVI'\n",
    "excludeW = data.loc[data['type'] !='water']#[['BSI', 'type']]\n",
    "fbsi = excludeW.loc[excludeW['type']=='farmland'][[selected]][selected].tolist()\n",
    "sbsi = excludeW.loc[excludeW['type']=='soil'][[selected]][selected].tolist()\n",
    "\n",
    "bins = np.linspace(-1, 2, 100)\n",
    "\n",
    "plt.hist(fbsi, bins, alpha=0.5, label='farmland')\n",
    "plt.hist(sbsi, bins, alpha=0.5, label='soil')\n",
    "plt.legend(loc='upper right')\n",
    "plt.show()\n"
   ]
  },
  {
   "cell_type": "code",
   "execution_count": 172,
   "metadata": {},
   "outputs": [],
   "source": [
    "fbsi = excludeW.loc[excludeW['type']=='farmland'][[selected]]\n",
    "sbsi = excludeW.loc[excludeW['type']=='soil'][[selected]]"
   ]
  },
  {
   "cell_type": "code",
   "execution_count": 173,
   "metadata": {},
   "outputs": [
    {
     "data": {
      "text/html": [
       "<div>\n",
       "<style scoped>\n",
       "    .dataframe tbody tr th:only-of-type {\n",
       "        vertical-align: middle;\n",
       "    }\n",
       "\n",
       "    .dataframe tbody tr th {\n",
       "        vertical-align: top;\n",
       "    }\n",
       "\n",
       "    .dataframe thead th {\n",
       "        text-align: right;\n",
       "    }\n",
       "</style>\n",
       "<table border=\"1\" class=\"dataframe\">\n",
       "  <thead>\n",
       "    <tr style=\"text-align: right;\">\n",
       "      <th></th>\n",
       "      <th>NDVI</th>\n",
       "    </tr>\n",
       "  </thead>\n",
       "  <tbody>\n",
       "    <tr>\n",
       "      <th>0</th>\n",
       "      <td>0.160896</td>\n",
       "    </tr>\n",
       "    <tr>\n",
       "      <th>1</th>\n",
       "      <td>0.320065</td>\n",
       "    </tr>\n",
       "    <tr>\n",
       "      <th>2</th>\n",
       "      <td>0.304806</td>\n",
       "    </tr>\n",
       "    <tr>\n",
       "      <th>3</th>\n",
       "      <td>0.188965</td>\n",
       "    </tr>\n",
       "    <tr>\n",
       "      <th>4</th>\n",
       "      <td>0.263813</td>\n",
       "    </tr>\n",
       "    <tr>\n",
       "      <th>...</th>\n",
       "      <td>...</td>\n",
       "    </tr>\n",
       "    <tr>\n",
       "      <th>4333</th>\n",
       "      <td>0.174708</td>\n",
       "    </tr>\n",
       "    <tr>\n",
       "      <th>4334</th>\n",
       "      <td>0.166778</td>\n",
       "    </tr>\n",
       "    <tr>\n",
       "      <th>4335</th>\n",
       "      <td>0.155283</td>\n",
       "    </tr>\n",
       "    <tr>\n",
       "      <th>4336</th>\n",
       "      <td>0.266937</td>\n",
       "    </tr>\n",
       "    <tr>\n",
       "      <th>4337</th>\n",
       "      <td>0.138298</td>\n",
       "    </tr>\n",
       "  </tbody>\n",
       "</table>\n",
       "<p>4338 rows × 1 columns</p>\n",
       "</div>"
      ],
      "text/plain": [
       "          NDVI\n",
       "0     0.160896\n",
       "1     0.320065\n",
       "2     0.304806\n",
       "3     0.188965\n",
       "4     0.263813\n",
       "...        ...\n",
       "4333  0.174708\n",
       "4334  0.166778\n",
       "4335  0.155283\n",
       "4336  0.266937\n",
       "4337  0.138298\n",
       "\n",
       "[4338 rows x 1 columns]"
      ]
     },
     "execution_count": 173,
     "metadata": {},
     "output_type": "execute_result"
    }
   ],
   "source": [
    "fbsi"
   ]
  },
  {
   "cell_type": "code",
   "execution_count": 174,
   "metadata": {},
   "outputs": [
    {
     "data": {
      "text/html": [
       "<div>\n",
       "<style scoped>\n",
       "    .dataframe tbody tr th:only-of-type {\n",
       "        vertical-align: middle;\n",
       "    }\n",
       "\n",
       "    .dataframe tbody tr th {\n",
       "        vertical-align: top;\n",
       "    }\n",
       "\n",
       "    .dataframe thead th {\n",
       "        text-align: right;\n",
       "    }\n",
       "</style>\n",
       "<table border=\"1\" class=\"dataframe\">\n",
       "  <thead>\n",
       "    <tr style=\"text-align: right;\">\n",
       "      <th></th>\n",
       "      <th>NDVI</th>\n",
       "    </tr>\n",
       "  </thead>\n",
       "  <tbody>\n",
       "    <tr>\n",
       "      <th>4338</th>\n",
       "      <td>0.171079</td>\n",
       "    </tr>\n",
       "    <tr>\n",
       "      <th>4339</th>\n",
       "      <td>0.162643</td>\n",
       "    </tr>\n",
       "    <tr>\n",
       "      <th>4340</th>\n",
       "      <td>0.364085</td>\n",
       "    </tr>\n",
       "    <tr>\n",
       "      <th>4341</th>\n",
       "      <td>0.149758</td>\n",
       "    </tr>\n",
       "    <tr>\n",
       "      <th>4342</th>\n",
       "      <td>0.161644</td>\n",
       "    </tr>\n",
       "    <tr>\n",
       "      <th>...</th>\n",
       "      <td>...</td>\n",
       "    </tr>\n",
       "    <tr>\n",
       "      <th>7717</th>\n",
       "      <td>0.209729</td>\n",
       "    </tr>\n",
       "    <tr>\n",
       "      <th>7718</th>\n",
       "      <td>0.199635</td>\n",
       "    </tr>\n",
       "    <tr>\n",
       "      <th>7719</th>\n",
       "      <td>0.132706</td>\n",
       "    </tr>\n",
       "    <tr>\n",
       "      <th>7720</th>\n",
       "      <td>0.208717</td>\n",
       "    </tr>\n",
       "    <tr>\n",
       "      <th>7721</th>\n",
       "      <td>0.138030</td>\n",
       "    </tr>\n",
       "  </tbody>\n",
       "</table>\n",
       "<p>3384 rows × 1 columns</p>\n",
       "</div>"
      ],
      "text/plain": [
       "          NDVI\n",
       "4338  0.171079\n",
       "4339  0.162643\n",
       "4340  0.364085\n",
       "4341  0.149758\n",
       "4342  0.161644\n",
       "...        ...\n",
       "7717  0.209729\n",
       "7718  0.199635\n",
       "7719  0.132706\n",
       "7720  0.208717\n",
       "7721  0.138030\n",
       "\n",
       "[3384 rows x 1 columns]"
      ]
     },
     "execution_count": 174,
     "metadata": {},
     "output_type": "execute_result"
    }
   ],
   "source": [
    "sbsi"
   ]
  },
  {
   "cell_type": "code",
   "execution_count": 37,
   "metadata": {},
   "outputs": [
    {
     "data": {
      "text/html": [
       "<div>\n",
       "<style scoped>\n",
       "    .dataframe tbody tr th:only-of-type {\n",
       "        vertical-align: middle;\n",
       "    }\n",
       "\n",
       "    .dataframe tbody tr th {\n",
       "        vertical-align: top;\n",
       "    }\n",
       "\n",
       "    .dataframe thead th {\n",
       "        text-align: right;\n",
       "    }\n",
       "</style>\n",
       "<table border=\"1\" class=\"dataframe\">\n",
       "  <thead>\n",
       "    <tr style=\"text-align: right;\">\n",
       "      <th></th>\n",
       "      <th>system:index</th>\n",
       "      <th>BRIGHTI</th>\n",
       "      <th>BSI</th>\n",
       "      <th>GNDVI</th>\n",
       "      <th>NDDI</th>\n",
       "      <th>NDPI</th>\n",
       "      <th>NDVI</th>\n",
       "      <th>NDWI</th>\n",
       "      <th>RedEdge1</th>\n",
       "      <th>SRRE</th>\n",
       "      <th>SWI</th>\n",
       "      <th>count</th>\n",
       "      <th>date</th>\n",
       "      <th>dateYMD</th>\n",
       "      <th>ld_type</th>\n",
       "      <th>numbImages</th>\n",
       "      <th>timestamp</th>\n",
       "      <th>.geo</th>\n",
       "    </tr>\n",
       "  </thead>\n",
       "  <tbody>\n",
       "    <tr>\n",
       "      <th>0</th>\n",
       "      <td>0_1_1_0</td>\n",
       "      <td>0.668176</td>\n",
       "      <td>0.096026</td>\n",
       "      <td>-0.288921</td>\n",
       "      <td>-21.090195</td>\n",
       "      <td>-0.237545</td>\n",
       "      <td>-0.262763</td>\n",
       "      <td>0.288921</td>\n",
       "      <td>-0.291438</td>\n",
       "      <td>0.548662</td>\n",
       "      <td>0.217778</td>\n",
       "      <td>23</td>\n",
       "      <td>2019-01-01</td>\n",
       "      <td>2019-01-01</td>\n",
       "      <td>water</td>\n",
       "      <td>1</td>\n",
       "      <td>1546300800000</td>\n",
       "      <td>{\"type\":\"Polygon\",\"coordinates\":[[[27.37243925...</td>\n",
       "    </tr>\n",
       "    <tr>\n",
       "      <th>1</th>\n",
       "      <td>0_1_1_1</td>\n",
       "      <td>0.929218</td>\n",
       "      <td>0.209793</td>\n",
       "      <td>0.074196</td>\n",
       "      <td>-0.064970</td>\n",
       "      <td>0.210968</td>\n",
       "      <td>-0.065143</td>\n",
       "      <td>-0.074196</td>\n",
       "      <td>-0.151452</td>\n",
       "      <td>0.736937</td>\n",
       "      <td>0.012774</td>\n",
       "      <td>23</td>\n",
       "      <td>2019-01-01</td>\n",
       "      <td>2019-01-01</td>\n",
       "      <td>water</td>\n",
       "      <td>1</td>\n",
       "      <td>1546300800000</td>\n",
       "      <td>{\"type\":\"Polygon\",\"coordinates\":[[[27.27030131...</td>\n",
       "    </tr>\n",
       "    <tr>\n",
       "      <th>2</th>\n",
       "      <td>0_1_1_2</td>\n",
       "      <td>0.926441</td>\n",
       "      <td>0.185817</td>\n",
       "      <td>-0.100253</td>\n",
       "      <td>2.569627</td>\n",
       "      <td>-0.150542</td>\n",
       "      <td>-0.230441</td>\n",
       "      <td>0.100253</td>\n",
       "      <td>-0.283681</td>\n",
       "      <td>0.558020</td>\n",
       "      <td>0.328992</td>\n",
       "      <td>23</td>\n",
       "      <td>2019-01-01</td>\n",
       "      <td>2019-01-01</td>\n",
       "      <td>water</td>\n",
       "      <td>1</td>\n",
       "      <td>1546300800000</td>\n",
       "      <td>{\"type\":\"Polygon\",\"coordinates\":[[[27.27055557...</td>\n",
       "    </tr>\n",
       "    <tr>\n",
       "      <th>3</th>\n",
       "      <td>0_1_1_3</td>\n",
       "      <td>0.876237</td>\n",
       "      <td>0.057851</td>\n",
       "      <td>0.164590</td>\n",
       "      <td>-2.896626</td>\n",
       "      <td>-0.079213</td>\n",
       "      <td>0.080112</td>\n",
       "      <td>-0.164590</td>\n",
       "      <td>0.000000</td>\n",
       "      <td>1.000000</td>\n",
       "      <td>0.220171</td>\n",
       "      <td>23</td>\n",
       "      <td>2019-01-01</td>\n",
       "      <td>2019-01-01</td>\n",
       "      <td>water</td>\n",
       "      <td>1</td>\n",
       "      <td>1546300800000</td>\n",
       "      <td>{\"type\":\"Polygon\",\"coordinates\":[[[27.31101573...</td>\n",
       "    </tr>\n",
       "    <tr>\n",
       "      <th>4</th>\n",
       "      <td>0_1_1_4</td>\n",
       "      <td>0.911410</td>\n",
       "      <td>-0.068030</td>\n",
       "      <td>0.055698</td>\n",
       "      <td>0.144341</td>\n",
       "      <td>-0.685248</td>\n",
       "      <td>-0.066617</td>\n",
       "      <td>-0.055698</td>\n",
       "      <td>-0.109691</td>\n",
       "      <td>0.802303</td>\n",
       "      <td>0.765603</td>\n",
       "      <td>23</td>\n",
       "      <td>2019-01-01</td>\n",
       "      <td>2019-01-01</td>\n",
       "      <td>water</td>\n",
       "      <td>1</td>\n",
       "      <td>1546300800000</td>\n",
       "      <td>{\"type\":\"Polygon\",\"coordinates\":[[[27.32772756...</td>\n",
       "    </tr>\n",
       "  </tbody>\n",
       "</table>\n",
       "</div>"
      ],
      "text/plain": [
       "  system:index   BRIGHTI       BSI     GNDVI       NDDI      NDPI      NDVI  \\\n",
       "0      0_1_1_0  0.668176  0.096026 -0.288921 -21.090195 -0.237545 -0.262763   \n",
       "1      0_1_1_1  0.929218  0.209793  0.074196  -0.064970  0.210968 -0.065143   \n",
       "2      0_1_1_2  0.926441  0.185817 -0.100253   2.569627 -0.150542 -0.230441   \n",
       "3      0_1_1_3  0.876237  0.057851  0.164590  -2.896626 -0.079213  0.080112   \n",
       "4      0_1_1_4  0.911410 -0.068030  0.055698   0.144341 -0.685248 -0.066617   \n",
       "\n",
       "       NDWI  RedEdge1      SRRE       SWI  count        date     dateYMD  \\\n",
       "0  0.288921 -0.291438  0.548662  0.217778     23  2019-01-01  2019-01-01   \n",
       "1 -0.074196 -0.151452  0.736937  0.012774     23  2019-01-01  2019-01-01   \n",
       "2  0.100253 -0.283681  0.558020  0.328992     23  2019-01-01  2019-01-01   \n",
       "3 -0.164590  0.000000  1.000000  0.220171     23  2019-01-01  2019-01-01   \n",
       "4 -0.055698 -0.109691  0.802303  0.765603     23  2019-01-01  2019-01-01   \n",
       "\n",
       "  ld_type  numbImages      timestamp  \\\n",
       "0   water           1  1546300800000   \n",
       "1   water           1  1546300800000   \n",
       "2   water           1  1546300800000   \n",
       "3   water           1  1546300800000   \n",
       "4   water           1  1546300800000   \n",
       "\n",
       "                                                .geo  \n",
       "0  {\"type\":\"Polygon\",\"coordinates\":[[[27.37243925...  \n",
       "1  {\"type\":\"Polygon\",\"coordinates\":[[[27.27030131...  \n",
       "2  {\"type\":\"Polygon\",\"coordinates\":[[[27.27055557...  \n",
       "3  {\"type\":\"Polygon\",\"coordinates\":[[[27.31101573...  \n",
       "4  {\"type\":\"Polygon\",\"coordinates\":[[[27.32772756...  "
      ]
     },
     "execution_count": 37,
     "metadata": {},
     "output_type": "execute_result"
    }
   ],
   "source": [
    "all_df = pd.read_csv(allpoints, encoding='utf-8', sep=',')\n",
    "all_df.head()"
   ]
  },
  {
   "cell_type": "code",
   "execution_count": 40,
   "metadata": {},
   "outputs": [
    {
     "data": {
      "text/html": [
       "<div>\n",
       "<style scoped>\n",
       "    .dataframe tbody tr th:only-of-type {\n",
       "        vertical-align: middle;\n",
       "    }\n",
       "\n",
       "    .dataframe tbody tr th {\n",
       "        vertical-align: top;\n",
       "    }\n",
       "\n",
       "    .dataframe thead th {\n",
       "        text-align: right;\n",
       "    }\n",
       "</style>\n",
       "<table border=\"1\" class=\"dataframe\">\n",
       "  <thead>\n",
       "    <tr style=\"text-align: right;\">\n",
       "      <th></th>\n",
       "      <th>NDDI</th>\n",
       "      <th>NDPI</th>\n",
       "      <th>NDWI</th>\n",
       "      <th>SWI</th>\n",
       "    </tr>\n",
       "  </thead>\n",
       "  <tbody>\n",
       "    <tr>\n",
       "      <th>0</th>\n",
       "      <td>-21.090195</td>\n",
       "      <td>-0.237545</td>\n",
       "      <td>0.288921</td>\n",
       "      <td>0.217778</td>\n",
       "    </tr>\n",
       "    <tr>\n",
       "      <th>1</th>\n",
       "      <td>-0.064970</td>\n",
       "      <td>0.210968</td>\n",
       "      <td>-0.074196</td>\n",
       "      <td>0.012774</td>\n",
       "    </tr>\n",
       "    <tr>\n",
       "      <th>2</th>\n",
       "      <td>2.569627</td>\n",
       "      <td>-0.150542</td>\n",
       "      <td>0.100253</td>\n",
       "      <td>0.328992</td>\n",
       "    </tr>\n",
       "    <tr>\n",
       "      <th>3</th>\n",
       "      <td>-2.896626</td>\n",
       "      <td>-0.079213</td>\n",
       "      <td>-0.164590</td>\n",
       "      <td>0.220171</td>\n",
       "    </tr>\n",
       "    <tr>\n",
       "      <th>4</th>\n",
       "      <td>0.144341</td>\n",
       "      <td>-0.685248</td>\n",
       "      <td>-0.055698</td>\n",
       "      <td>0.765603</td>\n",
       "    </tr>\n",
       "    <tr>\n",
       "      <th>...</th>\n",
       "      <td>...</td>\n",
       "      <td>...</td>\n",
       "      <td>...</td>\n",
       "      <td>...</td>\n",
       "    </tr>\n",
       "    <tr>\n",
       "      <th>15595</th>\n",
       "      <td>-1.921063</td>\n",
       "      <td>-0.802141</td>\n",
       "      <td>-0.185443</td>\n",
       "      <td>0.859275</td>\n",
       "    </tr>\n",
       "    <tr>\n",
       "      <th>15596</th>\n",
       "      <td>-1.903607</td>\n",
       "      <td>-0.739203</td>\n",
       "      <td>-0.186796</td>\n",
       "      <td>0.815674</td>\n",
       "    </tr>\n",
       "    <tr>\n",
       "      <th>15597</th>\n",
       "      <td>0.688840</td>\n",
       "      <td>-0.762452</td>\n",
       "      <td>-0.015067</td>\n",
       "      <td>0.816677</td>\n",
       "    </tr>\n",
       "    <tr>\n",
       "      <th>15598</th>\n",
       "      <td>0.823156</td>\n",
       "      <td>-0.824980</td>\n",
       "      <td>-0.009071</td>\n",
       "      <td>0.866949</td>\n",
       "    </tr>\n",
       "    <tr>\n",
       "      <th>15599</th>\n",
       "      <td>0.486132</td>\n",
       "      <td>-0.235746</td>\n",
       "      <td>-0.026350</td>\n",
       "      <td>0.360257</td>\n",
       "    </tr>\n",
       "  </tbody>\n",
       "</table>\n",
       "<p>5400 rows × 4 columns</p>\n",
       "</div>"
      ],
      "text/plain": [
       "            NDDI      NDPI      NDWI       SWI\n",
       "0     -21.090195 -0.237545  0.288921  0.217778\n",
       "1      -0.064970  0.210968 -0.074196  0.012774\n",
       "2       2.569627 -0.150542  0.100253  0.328992\n",
       "3      -2.896626 -0.079213 -0.164590  0.220171\n",
       "4       0.144341 -0.685248 -0.055698  0.765603\n",
       "...          ...       ...       ...       ...\n",
       "15595  -1.921063 -0.802141 -0.185443  0.859275\n",
       "15596  -1.903607 -0.739203 -0.186796  0.815674\n",
       "15597   0.688840 -0.762452 -0.015067  0.816677\n",
       "15598   0.823156 -0.824980 -0.009071  0.866949\n",
       "15599   0.486132 -0.235746 -0.026350  0.360257\n",
       "\n",
       "[5400 rows x 4 columns]"
      ]
     },
     "execution_count": 40,
     "metadata": {},
     "output_type": "execute_result"
    }
   ],
   "source": [
    "subwaterall_df = all_df[all_df['ld_type']=='water'][['NDDI', 'NDPI', 'NDWI', 'SWI']]\n",
    "subwaterall_df"
   ]
  },
  {
   "cell_type": "code",
   "execution_count": 41,
   "metadata": {},
   "outputs": [
    {
     "name": "stdout",
     "output_type": "stream",
     "text": [
      "           SWI      NDWI      NDPI      NDDI\n",
      "SWI   1.000000  0.448297 -0.992430  0.217150\n",
      "NDWI  0.448297  1.000000 -0.508520  0.221996\n",
      "NDPI -0.992430 -0.508520  1.000000 -0.200934\n",
      "NDDI  0.217150  0.221996 -0.200934  1.000000\n"
     ]
    },
    {
     "data": {
      "image/png": "[encoded data removed]",
      "text/plain": [
       "<Figure size 432x288 with 2 Axes>"
      ]
     },
     "metadata": {
      "needs_background": "light"
     },
     "output_type": "display_data"
    }
   ],
   "source": [
    "corrMatrixW = waterIdx.corr()\n",
    "print (corrMatrixW)\n",
    "sn.heatmap(corrMatrixW, annot=True)\n",
    "plt.show()"
   ]
  },
  {
   "cell_type": "code",
   "execution_count": null,
   "metadata": {},
   "outputs": [],
   "source": []
  },
  {
   "cell_type": "code",
   "execution_count": null,
   "metadata": {},
   "outputs": [],
   "source": []
  },
  {
   "cell_type": "code",
   "execution_count": null,
   "metadata": {},
   "outputs": [],
   "source": []
  },
  {
   "cell_type": "code",
   "execution_count": null,
   "metadata": {},
   "outputs": [],
   "source": []
  },
  {
   "cell_type": "code",
   "execution_count": null,
   "metadata": {},
   "outputs": [],
   "source": []
  }
 ],
 "metadata": {
  "kernelspec": {
   "display_name": "Python 3",
   "language": "python",
   "name": "python3"
  },
  "language_info": {
   "codemirror_mode": {
    "name": "ipython",
    "version": 3
   },
   "file_extension": ".py",
   "mimetype": "text/x-python",
   "name": "python",
   "nbconvert_exporter": "python",
   "pygments_lexer": "ipython3",
   "version": "3.7.9"
  }
 },
 "nbformat": 4,
 "nbformat_minor": 2
}
